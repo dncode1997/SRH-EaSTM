{
  "nbformat": 4,
  "nbformat_minor": 0,
  "metadata": {
    "colab": {
      "name": "URL Shortner",
      "provenance": [],
      "collapsed_sections": [],
      "authorship_tag": "ABX9TyNzPP6qMDsXgPcKisFGJ365",
      "include_colab_link": true
    },
    "kernelspec": {
      "name": "python3",
      "display_name": "Python 3"
    },
    "language_info": {
      "name": "python"
    }
  },
  "cells": [
    {
      "cell_type": "markdown",
      "metadata": {
        "id": "view-in-github",
        "colab_type": "text"
      },
      "source": [
        "<a href=\"https://colab.research.google.com/github/dncode1997/SRH-EaSTM/blob/main/URL_Shortner.ipynb\" target=\"_parent\"><img src=\"https://colab.research.google.com/assets/colab-badge.svg\" alt=\"Open In Colab\"/></a>"
      ]
    },
    {
      "cell_type": "code",
      "metadata": {
        "colab": {
          "base_uri": "https://localhost:8080/"
        },
        "id": "npHrn-F-RQ-6",
        "outputId": "3aa45d73-af42-4e2d-e864-e842f700cff3"
      },
      "source": [
        "!pip install Hashids\n",
        "import sqlite3\n",
        "from hashids import Hashids\n",
        "from flask import Flask, render_template, request, flash, redirect, url_for\n",
        "\n",
        "\n",
        "def get_db_connection():\n",
        "    conn = sqlite3.connect('database.db')\n",
        "    conn.row_factory = sqlite3.Row\n",
        "    return conn\n",
        "\n",
        "\n",
        "app = Flask('_name_')\n",
        "app.config['SECRET_KEY'] = 'this should be a secret random string'\n",
        "\n",
        "hashids = Hashids(min_length=4, salt=app.config['SECRET_KEY'])\n",
        "\n",
        "\n",
        "@app.route('/', methods=('GET', 'POST'))\n",
        "def index():\n",
        "    conn = get_db_connection()\n",
        "\n",
        "    if request.method == 'POST':\n",
        "        url = request.form['url']\n",
        "\n",
        "        if not url:\n",
        "            flash('The URL is required!')\n",
        "            return redirect(url_for('index'))\n",
        "\n",
        "        url_data = conn.execute('INSERT INTO urls (original_url) VALUES (?)',\n",
        "                                (url,))\n",
        "        conn.commit()\n",
        "        conn.close()\n",
        "\n",
        "        url_id = url_data.lastrowid\n",
        "        hashid = hashids.encode(url_id)\n",
        "        short_url = request.host_url + hashid\n",
        "\n",
        "        return render_template('index.html', short_url=short_url)\n",
        "\n",
        "    return render_template('index.html')\n",
        "\n",
        "\n",
        "@app.route('/<id>')\n",
        "def url_redirect(id):\n",
        "    conn = get_db_connection()\n",
        "\n",
        "    original_id = hashids.decode(id)\n",
        "    if original_id:\n",
        "        original_id = original_id[0]\n",
        "        url_data = conn.execute('SELECT original_url, clicks FROM urls'\n",
        "                                ' WHERE id = (?)', (original_id,)\n",
        "                                ).fetchone()\n",
        "        original_url = url_data['original_url']\n",
        "        clicks = url_data['clicks']\n",
        "\n",
        "        conn.execute('UPDATE urls SET clicks = ? WHERE id = ?',\n",
        "                     (clicks+1, original_id))\n",
        "\n",
        "        conn.commit()\n",
        "        conn.close()\n",
        "        return redirect(original_url)\n",
        "    else:\n",
        "        flash('Invalid URL')\n",
        "        return redirect(url_for('index'))\n",
        "\n",
        "app.run()"
      ],
      "execution_count": null,
      "outputs": [
        {
          "output_type": "stream",
          "text": [
            "Collecting Hashids\n",
            "  Downloading https://files.pythonhosted.org/packages/6e/46/ffdf25b1f6dbb1ce588ccb818e983df9e3d30594679f5a08c865a59cead7/hashids-1.3.1-py2.py3-none-any.whl\n",
            "Installing collected packages: Hashids\n",
            "Successfully installed Hashids-1.3.1\n",
            " * Serving Flask app \"_name_\" (lazy loading)\n",
            " * Environment: production\n",
            "\u001b[31m   WARNING: This is a development server. Do not use it in a production deployment.\u001b[0m\n",
            "\u001b[2m   Use a production WSGI server instead.\u001b[0m\n",
            " * Debug mode: off\n"
          ],
          "name": "stdout"
        },
        {
          "output_type": "stream",
          "text": [
            " * Running on http://127.0.0.1:5000/ (Press CTRL+C to quit)\n"
          ],
          "name": "stderr"
        }
      ]
    }
  ]
}